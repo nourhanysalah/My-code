{
  "nbformat": 4,
  "nbformat_minor": 0,
  "metadata": {
    "colab": {
      "provenance": [],
      "authorship_tag": "ABX9TyN0d9/HVRhGEug3dDL/OiE1",
      "include_colab_link": true
    },
    "kernelspec": {
      "name": "python3",
      "display_name": "Python 3"
    },
    "language_info": {
      "name": "python"
    }
  },
  "cells": [
    {
      "cell_type": "markdown",
      "metadata": {
        "id": "view-in-github",
        "colab_type": "text"
      },
      "source": [
        "<a href=\"https://colab.research.google.com/github/nourhanysalah/My-code/blob/main/Untitled43.ipynb\" target=\"_parent\"><img src=\"https://colab.research.google.com/assets/colab-badge.svg\" alt=\"Open In Colab\"/></a>"
      ]
    },
    {
      "cell_type": "code",
      "execution_count": 1,
      "metadata": {
        "colab": {
          "base_uri": "https://localhost:8080/"
        },
        "id": "tqD-vMjC1ezk",
        "outputId": "0680cd9f-4cdb-455b-bf69-87ee751a8b98"
      },
      "outputs": [
        {
          "output_type": "stream",
          "name": "stdout",
          "text": [
            "Predicted next value: 2.21\n"
          ]
        }
      ],
      "source": [
        "import numpy as np\n",
        "\n",
        "# تفعيل الدوال المستخدمة في الـ LSTM\n",
        "def sigmoid(x):\n",
        "    return 1 / (1 + np.exp(-x))\n",
        "\n",
        "def tanh(x):\n",
        "    return np.tanh(x)\n",
        "\n",
        "# دالة تقوم بخطوة واحدة في شبكة LSTM\n",
        "def lstm_step(x_t, h_prev, c_prev, W_f, U_f, b_f,\n",
        "                                  W_i, U_i, b_i,\n",
        "                                  W_o, U_o, b_o,\n",
        "                                  W_c, U_c, b_c):\n",
        "    \"\"\"تنفيذ خطوة واحدة من LSTM\"\"\"\n",
        "    f_t = sigmoid(np.dot(W_f, h_prev) + np.dot(U_f, x_t) + b_f)  # بوابة النسيان\n",
        "    i_t = sigmoid(np.dot(W_i, h_prev) + np.dot(U_i, x_t) + b_i)  # بوابة الإدخال\n",
        "    c_tilde_t = tanh(np.dot(W_c, h_prev) + np.dot(U_c, x_t) + b_c)  # الحالة المرشحة\n",
        "    c_t = f_t * c_prev + i_t * c_tilde_t  # تحديث الحالة المخزنة\n",
        "    o_t = sigmoid(np.dot(W_o, h_prev) + np.dot(U_o, x_t) + b_o)  # بوابة الإخراج\n",
        "    h_t = o_t * tanh(c_t)  # تحديث الحالة المخفية\n",
        "\n",
        "    return h_t, c_t\n",
        "\n",
        "# دالة تقوم بالتنبؤ بالقيمة التالية في السلسلة الزمنية\n",
        "def lstm_predict(sequence, W_f, U_f, b_f,\n",
        "                            W_i, U_i, b_i,\n",
        "                            W_o, U_o, b_o,\n",
        "                            W_c, U_c, b_c,\n",
        "                            W_y, b_y):\n",
        "    \"\"\"التنبؤ بالقيمة التالية في التسلسل باستخدام LSTM\"\"\"\n",
        "\n",
        "    h_t = np.zeros((W_f.shape[0], 1))  # الحالة المخفية الأولية\n",
        "    c_t = np.zeros((W_f.shape[0], 1))  # الحالة المخزنة الأولية\n",
        "\n",
        "    for x_t in sequence:\n",
        "        x_t = np.array([[x_t]])  # تحويل المدخل إلى مصفوفة\n",
        "        h_t, c_t = lstm_step(x_t, h_t, c_t,\n",
        "                             W_f, U_f, b_f,\n",
        "                             W_i, U_i, b_i,\n",
        "                             W_o, U_o, b_o,\n",
        "                             W_c, U_c, b_c)\n",
        "\n",
        "    return np.dot(W_y, h_t) + b_y  # تنبؤ نهائي\n",
        "\n",
        "# تعريف الأوزان والمصفوفات بشكل عشوائي لاختبار النموذج\n",
        "input_dim = 1  # عدد المدخلات\n",
        "hidden_dim = 2  # عدد الوحدات المخفية\n",
        "\n",
        "# أوزان كل بوابة في الـ LSTM\n",
        "W_f = np.random.rand(hidden_dim, hidden_dim)\n",
        "U_f = np.random.rand(hidden_dim, input_dim)\n",
        "b_f = np.random.rand(hidden_dim, 1)\n",
        "\n",
        "W_i = np.random.rand(hidden_dim, hidden_dim)\n",
        "U_i = np.random.rand(hidden_dim, input_dim)\n",
        "b_i = np.random.rand(hidden_dim, 1)\n",
        "\n",
        "W_o = np.random.rand(hidden_dim, hidden_dim)\n",
        "U_o = np.random.rand(hidden_dim, input_dim)\n",
        "b_o = np.random.rand(hidden_dim, 1)\n",
        "\n",
        "W_c = np.random.rand(hidden_dim, hidden_dim)\n",
        "U_c = np.random.rand(hidden_dim, input_dim)\n",
        "b_c = np.random.rand(hidden_dim, 1)\n",
        "\n",
        "# أوزان الطبقة الأخيرة\n",
        "W_y = np.random.rand(1, hidden_dim)\n",
        "b_y = np.random.rand(1, 1)\n",
        "\n",
        "# إدخال تسلسل من القيم لاختبار النموذج\n",
        "sequence = [1, 2, 3, 4]\n",
        "\n",
        "# تنبؤ بالقيمة التالية\n",
        "y_pred = lstm_predict(sequence, W_f, U_f, b_f,\n",
        "                                  W_i, U_i, b_i,\n",
        "                                  W_o, U_o, b_o,\n",
        "                                  W_c, U_c, b_c,\n",
        "                                  W_y, b_y)\n",
        "\n",
        "print(f\"Predicted next value: {y_pred[0,0]:.2f}\")"
      ]
    }
  ]
}